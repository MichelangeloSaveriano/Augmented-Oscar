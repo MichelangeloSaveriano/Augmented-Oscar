{
  "cells": [
    {
      "cell_type": "markdown",
      "metadata": {
        "id": "CFVKGz7GUHhe"
      },
      "source": [
        "# Part 1 - General Setup"
      ]
    },
    {
      "cell_type": "markdown",
      "source": [
        "### Paths"
      ],
      "metadata": {
        "id": "KyNDcG1GEHk5"
      }
    },
    {
      "cell_type": "code",
      "source": [
        "project_dir = '/content/drive/MyDrive/AMLProject/Oscar/'\n",
        "run_aug_oscar  = project_dir + 'oscar/run_aug_oscar.py'\n",
        "data_dir       = project_dir + \"dataset/coco_caption/\"\n",
        "oscar_ckpt_dir = project_dir + 'base_oscar/'\n",
        "gcn_ckpt_dir   = project_dir + 'gcn_checkpoints/'"
      ],
      "metadata": {
        "id": "F7hpmtSUDfUa"
      },
      "execution_count": 1,
      "outputs": []
    },
    {
      "cell_type": "markdown",
      "metadata": {
        "id": "nR6Iw6batIz0"
      },
      "source": [
        "### Set up notebook"
      ]
    },
    {
      "cell_type": "code",
      "execution_count": 2,
      "metadata": {
        "id": "qyyDkqLpwiEf",
        "colab": {
          "base_uri": "https://localhost:8080/"
        },
        "outputId": "1969bc4d-9ab0-44d4-ec59-e862dff8d407"
      },
      "outputs": [
        {
          "output_type": "stream",
          "name": "stdout",
          "text": [
            "Mounted at /content/drive\n"
          ]
        }
      ],
      "source": [
        "from google.colab import drive\n",
        "import os\n",
        "drive.mount('/content/drive')\n",
        "os.chdir(project_dir)"
      ]
    },
    {
      "cell_type": "code",
      "source": [
        "!cd $project_dir && python setup.py build develop"
      ],
      "metadata": {
        "colab": {
          "base_uri": "https://localhost:8080/"
        },
        "id": "72I454LsvG_3",
        "outputId": "6378ca7f-1407-4899-ea50-d8e0279c668e"
      },
      "execution_count": 3,
      "outputs": [
        {
          "output_type": "stream",
          "name": "stdout",
          "text": [
            "running build\n",
            "running build_py\n",
            "running develop\n",
            "running egg_info\n",
            "writing oscar.egg-info/PKG-INFO\n",
            "writing dependency_links to oscar.egg-info/dependency_links.txt\n",
            "writing top-level names to oscar.egg-info/top_level.txt\n",
            "adding license file 'LICENSE'\n",
            "writing manifest file 'oscar.egg-info/SOURCES.txt'\n",
            "running build_ext\n",
            "Creating /usr/local/lib/python3.7/dist-packages/oscar.egg-link (link to .)\n",
            "Adding oscar 0.1.0 to easy-install.pth file\n",
            "\n",
            "Installed /content/drive/.shortcut-targets-by-id/1MaSTrCq7mlx_JG-_Dv9aCVkhognEiBTV/AMLProject/Oscar\n",
            "Processing dependencies for oscar==0.1.0\n",
            "Finished processing dependencies for oscar==0.1.0\n"
          ]
        }
      ]
    },
    {
      "cell_type": "markdown",
      "source": [
        "Download the libraries"
      ],
      "metadata": {
        "id": "2ixxFixFJDxg"
      }
    },
    {
      "cell_type": "code",
      "execution_count": 1,
      "metadata": {
        "id": "jS3VHFhJpVBe",
        "colab": {
          "base_uri": "https://localhost:8080/"
        },
        "outputId": "ad34219f-ab9b-41e8-c36d-fafd961ddfc0"
      },
      "outputs": [
        {
          "output_type": "stream",
          "name": "stdout",
          "text": [
            "\u001b[31mERROR: Could not open requirements file: [Errno 2] No such file or directory: 'requirements.txt'\u001b[0m\n",
            "\u001b[K     |████████████████████████████████| 7.9 MB 2.9 MB/s \n",
            "\u001b[K     |████████████████████████████████| 3.5 MB 2.6 MB/s \n",
            "\u001b[K     |████████████████████████████████| 370 kB 5.3 MB/s \n",
            "\u001b[K     |████████████████████████████████| 482 kB 38.2 MB/s \n",
            "\u001b[K     |████████████████████████████████| 41 kB 425 kB/s \n",
            "\u001b[?25h  Building wheel for torch-geometric (setup.py) ... \u001b[?25l\u001b[?25hdone\n"
          ]
        }
      ],
      "source": [
        "!pip install -r requirements.txt -qqq\n",
        "!pip install torch-scatter -f https://data.pyg.org/whl/torch-1.10.0+cu111.html -qqq\n",
        "!pip install torch-sparse -f https://data.pyg.org/whl/torch-1.10.0+cu111.html -qqq\n",
        "!pip install torch-geometric -qqq"
      ]
    },
    {
      "cell_type": "markdown",
      "metadata": {
        "id": "Vg4a_SK0tQFe"
      },
      "source": [
        "Import the libraries"
      ]
    },
    {
      "cell_type": "code",
      "execution_count": 5,
      "metadata": {
        "id": "yo6_nI0vww0o"
      },
      "outputs": [],
      "source": [
        "from oscar.run_aug_oscar import GCN, BertTokenizer, CaptionTSVDataset, make_data_sampler, create_single_graph\n",
        "import torch\n",
        "import torch.nn.functional as F\n",
        "from torch_geometric.data import Data\n",
        "import shutil"
      ]
    },
    {
      "cell_type": "markdown",
      "source": [
        "Check for the GPU"
      ],
      "metadata": {
        "id": "rUQjG6_0JOh-"
      }
    },
    {
      "cell_type": "code",
      "source": [
        "# Check if cuda available \n",
        "device = torch.device('cuda' if torch.cuda.is_available() else 'cpu')"
      ],
      "metadata": {
        "id": "lBsphNVdJNhY"
      },
      "execution_count": 6,
      "outputs": []
    },
    {
      "cell_type": "markdown",
      "metadata": {
        "id": "G6BXHTwUppIT"
      },
      "source": [
        "# Graph Convolutional Network"
      ]
    },
    {
      "cell_type": "markdown",
      "source": [
        "## Create a random GCN"
      ],
      "metadata": {
        "id": "3G_gw7UIERo9"
      }
    },
    {
      "cell_type": "code",
      "execution_count": 7,
      "metadata": {
        "id": "8dVRqIwjpj0Y",
        "colab": {
          "base_uri": "https://localhost:8080/"
        },
        "outputId": "3fd92e63-21f5-471f-b714-76ff1215892b"
      },
      "outputs": [
        {
          "output_type": "execute_result",
          "data": {
            "text/plain": [
              "GCN(\n",
              "  (gcn): Sequential(\n",
              "    (0): GCNConv(2054, 2054)\n",
              "    (1): GCNConv(2054, 2054)\n",
              "    (2): GCNConv(2054, 2054)\n",
              "  )\n",
              ")"
            ]
          },
          "metadata": {},
          "execution_count": 7
        }
      ],
      "source": [
        "gcn_model = GCN(in_features=2054, hidden_features=2054, output_features=2054, num_blocks=1, p_dropout=0.6)\n",
        "gcn_model.to(device)\n",
        "gcn_model"
      ]
    },
    {
      "cell_type": "markdown",
      "metadata": {
        "id": "qGwtjylEptDP"
      },
      "source": [
        "## Pretraining GCN"
      ]
    },
    {
      "cell_type": "markdown",
      "source": [
        "Load the data"
      ],
      "metadata": {
        "id": "sShzq7l8EYlx"
      }
    },
    {
      "cell_type": "code",
      "execution_count": 43,
      "metadata": {
        "id": "zUfvjsOUp5K6"
      },
      "outputs": [],
      "source": [
        "# Load the data\n",
        "batch_size = 16\n",
        "tokenizer = BertTokenizer.from_pretrained(oscar_ckpt_dir)\n",
        "dataset = CaptionTSVDataset(data_dir + 'train.yaml', tokenizer=tokenizer)\n",
        "sampler = make_data_sampler(dataset, shuffle=True, distributed=False)\n",
        "\n",
        "train_dataloader = torch.utils.data.DataLoader(\n",
        "        dataset, num_workers=1, sampler=sampler,\n",
        "        batch_size=batch_size,\n",
        "        pin_memory=True)"
      ]
    },
    {
      "cell_type": "markdown",
      "source": [
        "Instantiate the optimizer"
      ],
      "metadata": {
        "id": "57_6UpkUEdt4"
      }
    },
    {
      "cell_type": "code",
      "execution_count": 8,
      "metadata": {
        "id": "mUXABtnMrMQe"
      },
      "outputs": [],
      "source": [
        "optimizer = torch.optim.AdamW(gcn_model.parameters())"
      ]
    },
    {
      "cell_type": "markdown",
      "source": [
        "Training Loop"
      ],
      "metadata": {
        "id": "gkyCLXQpEdAV"
      }
    },
    {
      "cell_type": "code",
      "execution_count": 9,
      "metadata": {
        "colab": {
          "base_uri": "https://localhost:8080/"
        },
        "id": "Vl8WLfk6qX6l",
        "outputId": "4000330d-70ed-4a25-bb92-babc9d3b2c90"
      },
      "outputs": [
        {
          "output_type": "stream",
          "name": "stderr",
          "text": [
            "/content/drive/.shortcut-targets-by-id/1MaSTrCq7mlx_JG-_Dv9aCVkhognEiBTV/AMLProject/Oscar/oscar/run_aug_oscar.py:114: UserWarning: The given NumPy array is not writeable, and PyTorch does not support non-writeable tensors. This means you can write to the underlying (supposedly non-writeable) NumPy array using the tensor. You may want to copy the array to protect its data or make it writeable before converting it to a tensor. This type of warning will be suppressed for the rest of this program. (Triggered internally at  ../torch/csrc/utils/tensor_numpy.cpp:189.)\n",
            "  return torch.Tensor(features)\n"
          ]
        },
        {
          "output_type": "stream",
          "name": "stdout",
          "text": [
            "Step: 0, Loss: 8.399324417114258\n",
            "Step: 1, Loss: 0.8979783654212952\n",
            "Step: 2, Loss: 0.55570387840271\n",
            "Step: 3, Loss: 0.34144383668899536\n",
            "Step: 4, Loss: 0.14776070415973663\n",
            "Step: 5, Loss: 0.07367932796478271\n",
            "Step: 6, Loss: 0.020406300202012062\n",
            "Step: 7, Loss: 0.006094050593674183\n",
            "Step: 8, Loss: 0.001962833572179079\n",
            "Step: 9, Loss: 0.0007641626871190965\n",
            "Step: 10, Loss: 2.8260101316845976e-05\n",
            "Step: 11, Loss: 4.109167548449477e-06\n",
            "Stopping criterion\n"
          ]
        }
      ],
      "source": [
        "for step, (img_keys, batch) in enumerate(train_dataloader):\n",
        "  gcn_model.train()\n",
        "  batch = tuple(t.to(device) for t in batch)\n",
        "  input_ids = batch[0]\n",
        "  img_feats = batch[3]\n",
        "  img_feats_pred = torch.stack([gcn_model(Data(edge_index=create_single_graph(ids, img), x=img).to(device)) for ids, img in \n",
        "                                zip(input_ids, img_feats)])\n",
        "\n",
        "  loss = F.mse_loss(img_feats, img_feats_pred) \n",
        "  loss.backward()\n",
        "  optimizer.step()\n",
        "  print(f'Step: {step}, Loss: {loss}')\n",
        "\n",
        "  if loss < 1e-5:\n",
        "    print('Stopping criterion')\n",
        "    torch.save(gcn_model.state_dict(), gcn_ckpt_dir + '/gcn.ckpt')\n",
        "    break\n",
        "\n",
        "  if step % 10 == 0:\n",
        "    torch.save(gcn_model.state_dict(), gcn_ckpt_dir + f'/gcn_model_{step}.ckpt')\n",
        "    "
      ]
    },
    {
      "cell_type": "markdown",
      "source": [
        "Move the pretrained GCN in the base_oscar folder"
      ],
      "metadata": {
        "id": "Vlu8G_f0hFX3"
      }
    },
    {
      "cell_type": "code",
      "source": [
        "gcn_old_chpt_file = gcn_ckpt_dir + 'gcn.ckpt'\n",
        "gcn_new_chpt_file = project_dir + 'base_oscar/gcn.ckpt'\n",
        "shutil.move(gcn_old_chpt_file, gcn_new_chpt_file)"
      ],
      "metadata": {
        "colab": {
          "base_uri": "https://localhost:8080/",
          "height": 35
        },
        "id": "QbnzQaTceVGQ",
        "outputId": "56e05233-f557-4866-91e5-a189c3e433f6"
      },
      "execution_count": 17,
      "outputs": [
        {
          "output_type": "execute_result",
          "data": {
            "application/vnd.google.colaboratory.intrinsic+json": {
              "type": "string"
            },
            "text/plain": [
              "'/content/drive/MyDrive/AMLProject/Oscar/output_finetune_oscar/gcn.ckpt'"
            ]
          },
          "metadata": {},
          "execution_count": 17
        }
      ]
    },
    {
      "cell_type": "markdown",
      "metadata": {
        "id": "-7JVuJU5Us74"
      },
      "source": [
        "# Part 2 - Finetuning Oscar on the Image Captioning Task"
      ]
    },
    {
      "cell_type": "code",
      "source": [
        "batch = 40\n",
        "epochs = 50\n",
        "save_step = 50\n",
        "train_size = 10000\n",
        "test_size = 10000\n",
        "lr = 0.0001\n",
        "oscar_finetune_dir = project_dir + 'output_finetune_oscar/'"
      ],
      "metadata": {
        "id": "ifNv9GS1LcVE"
      },
      "execution_count": 14,
      "outputs": []
    },
    {
      "cell_type": "markdown",
      "source": [
        "### Finetune Oscar"
      ],
      "metadata": {
        "id": "8pQii-kb5BTd"
      }
    },
    {
      "cell_type": "code",
      "source": [
        "!python $run_aug_oscar \\\n",
        "    --model_name_or_path $oscar_ckpt_dir \\\n",
        "    --do_train \\\n",
        "    --skip_gcn \\\n",
        "    --from_oscar \\\n",
        "    --do_lower_case \\\n",
        "    --add_od_labels \\\n",
        "    --learning_rate $lr \\\n",
        "    --per_gpu_train_batch_size $batch \\\n",
        "    --num_train_epochs $epochs \\\n",
        "    --save_steps $save_step \\\n",
        "    --train_size $train_size \\\n",
        "    --data_dir $data_dir \\\n",
        "    --output_dir $oscar_finetune_dir"
      ],
      "metadata": {
        "id": "ZpnKyoeytkgt"
      },
      "execution_count": null,
      "outputs": []
    },
    {
      "cell_type": "markdown",
      "source": [
        "### Test Oscar"
      ],
      "metadata": {
        "id": "eff5jyffBA3w"
      }
    },
    {
      "cell_type": "code",
      "source": [
        "oscar_chpt_dir = oscar_finetune_dir + 'finetune_v4'"
      ],
      "metadata": {
        "id": "5C1JM-dni0cJ"
      },
      "execution_count": 12,
      "outputs": []
    },
    {
      "cell_type": "code",
      "source": [
        "!python $run_aug_oscar \\\n",
        "    --do_test \\\n",
        "    --do_eval \\\n",
        "    --skip_gcn \\\n",
        "    --per_gpu_eval_batch_size $batch \\\n",
        "    --num_beams 5 \\\n",
        "    --max_gen_length 20 \\\n",
        "    --test_size $test_size \\\n",
        "    --data_dir $data_dir \\\n",
        "    --eval_model_dir $oscar_chpt_dir"
      ],
      "metadata": {
        "id": "Pbht2VumBO2F"
      },
      "execution_count": null,
      "outputs": []
    },
    {
      "cell_type": "markdown",
      "source": [
        "# Part 3 -  Training Augmented Oscar"
      ],
      "metadata": {
        "id": "vo2BzWlF5Fad"
      }
    },
    {
      "cell_type": "code",
      "source": [
        "batch = 40\n",
        "epochs = 50\n",
        "save_step = 50\n",
        "train_size = 10000\n",
        "test_size = 10000\n",
        "lr = 0.0001\n",
        "aug_oscar_finetune_dir = project_dir + 'output_finetune_aug_oscar/'"
      ],
      "metadata": {
        "id": "UsIJHV8zj-eO"
      },
      "execution_count": null,
      "outputs": []
    },
    {
      "cell_type": "markdown",
      "source": [
        "### Train AugOscar"
      ],
      "metadata": {
        "id": "EtWFau03_8dw"
      }
    },
    {
      "cell_type": "code",
      "source": [
        "!python $run_aug_oscar \\\n",
        "    --model_name_or_path $oscar_chpt_dir \\\n",
        "    --do_train \\\n",
        "    --do_lower_case \\\n",
        "    --add_od_labels \\\n",
        "    --learning_rate $lr \\\n",
        "    --per_gpu_train_batch_size $batch \\\n",
        "    --num_train_epochs $epochs \\\n",
        "    --save_steps $save_step \\\n",
        "    --train_size $train_size \\\n",
        "    --data_dir $data_dir \\\n",
        "    --output_dir $aug_oscar_finetune_dir"
      ],
      "metadata": {
        "id": "7yQsPSGJ5E5c"
      },
      "execution_count": null,
      "outputs": []
    },
    {
      "cell_type": "markdown",
      "source": [
        "### Test AugOscar"
      ],
      "metadata": {
        "id": "r2jpjavD_Z_R"
      }
    },
    {
      "cell_type": "code",
      "source": [
        "aug_oscar_chpt_dir = aug_oscar_finetune_dir + 'finetune_v4'"
      ],
      "metadata": {
        "id": "qsYfC_WZl-fw"
      },
      "execution_count": null,
      "outputs": []
    },
    {
      "cell_type": "code",
      "source": [
        "!python $run_aug_oscar \\\n",
        "    --do_test \\\n",
        "    --do_eval \\\n",
        "    --per_gpu_eval_batch_size $batch \\\n",
        "    --num_beams 5 \\\n",
        "    --max_gen_length 20 \\\n",
        "    --test_size $test_size \\\n",
        "    --data_dir $data_dir \\\n",
        "    --eval_model_dir $aug_oscar_chpt_dir"
      ],
      "metadata": {
        "id": "s1VOk0Fg_ZJ_"
      },
      "execution_count": null,
      "outputs": []
    }
  ],
  "metadata": {
    "colab": {
      "collapsed_sections": [],
      "name": "AUG_OSCAR_Condiviso.ipynb",
      "provenance": []
    },
    "kernelspec": {
      "display_name": "Python 3",
      "name": "python3"
    },
    "language_info": {
      "name": "python"
    },
    "accelerator": "GPU"
  },
  "nbformat": 4,
  "nbformat_minor": 0
}